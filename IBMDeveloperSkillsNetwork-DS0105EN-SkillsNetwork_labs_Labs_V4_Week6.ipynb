{
  "metadata": {
    "language_info": {
      "codemirror_mode": {
        "name": "javascript"
      },
      "file_extension": ".js",
      "mimetype": "text/javascript",
      "name": "p5js",
      "nbconvert_exporter": "javascript",
      "pygments_lexer": "javascript",
      "version": "es2017"
    },
    "kernelspec": {
      "name": "p5js",
      "display_name": "p5.js",
      "language": "javascript"
    }
  },
  "nbformat_minor": 4,
  "nbformat": 4,
  "cells": [
    {
      "cell_type": "markdown",
      "source": "# Data science tools and ecosystems\n\nIn this notebook, Data science Tools and Ecosystems are summarized\n\n",
      "metadata": {}
    },
    {
      "cell_type": "markdown",
      "source": "Some of the popular languages that Data Scientists use are\n\n1. Python\n2. R\n3. C++\n4. Java\n5. Julia\n6. SQL\n7. Javascript",
      "metadata": {}
    },
    {
      "cell_type": "code",
      "source": "Some of the commonly used libraries used by Data Scientists:\n\n1. Pandas\n2. TensorFlow\n3. NumPy\n4. PyTouch\n5. SciKit-learn\n6. Keras",
      "metadata": {},
      "execution_count": null,
      "outputs": []
    },
    {
      "cell_type": "markdown",
      "source": "|Data Science Tools|\n|---|\n|Apache Spark|\n|Matplotlib|\n|Jupyter|",
      "metadata": {}
    },
    {
      "cell_type": "markdown",
      "source": "#### Below are a few examples of evaluating arithmetic expressions in Python",
      "metadata": {}
    },
    {
      "cell_type": "code",
      "source": "(4+7)*8",
      "metadata": {
        "trusted": true
      },
      "execution_count": 22,
      "outputs": [
        {
          "execution_count": 22,
          "output_type": "execute_result",
          "data": {
            "text/plain": 88
          },
          "metadata": {}
        }
      ]
    },
    {
      "cell_type": "code",
      "source": "200 / 60",
      "metadata": {
        "trusted": true
      },
      "execution_count": 23,
      "outputs": [
        {
          "execution_count": 23,
          "output_type": "execute_result",
          "data": {
            "text/plain": 3.3333333333333335
          },
          "metadata": {}
        }
      ]
    },
    {
      "cell_type": "markdown",
      "source": "##### Objectives:\n- Popular languages for data science\n- popular libraries for data science\n- popular tools\n- Mathematical operations ",
      "metadata": {}
    },
    {
      "cell_type": "markdown",
      "source": "## Author\n\nChun Sham Keung",
      "metadata": {}
    }
  ]
}